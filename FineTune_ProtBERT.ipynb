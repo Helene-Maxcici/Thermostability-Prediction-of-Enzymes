{
  "cells": [
    {
      "cell_type": "code",
      "source": [
        "!git clone https://github.com/Helene-Maxcici/protein_stability_prediction.git"
      ],
      "metadata": {
        "colab": {
          "base_uri": "https://localhost:8080/"
        },
        "id": "jA9Xqksmhwzo",
        "outputId": "24ab021e-8479-4d6b-a2a8-ae38953d713a"
      },
      "execution_count": null,
      "outputs": [
        {
          "output_type": "stream",
          "name": "stdout",
          "text": [
            "fatal: destination path 'protein_stability_prediction' already exists and is not an empty directory.\n"
          ]
        }
      ]
    },
    {
      "cell_type": "code",
      "source": [
        "!pip install -r protein_stability_prediction/requirements.txt"
      ],
      "metadata": {
        "id": "Dg6grLkditei",
        "colab": {
          "base_uri": "https://localhost:8080/"
        },
        "outputId": "f59b8a1e-dbec-45f6-dcda-719a011ba0d5"
      },
      "execution_count": null,
      "outputs": [
        {
          "output_type": "stream",
          "name": "stdout",
          "text": [
            "Looking in indexes: https://pypi.org/simple, https://us-python.pkg.dev/colab-wheels/public/simple/\n",
            "Requirement already satisfied: numpy==1.21.6 in /usr/local/lib/python3.8/dist-packages (from -r protein_stability_prediction/requirements.txt (line 1)) (1.21.6)\n",
            "Requirement already satisfied: pandas==1.3.5 in /usr/local/lib/python3.8/dist-packages (from -r protein_stability_prediction/requirements.txt (line 2)) (1.3.5)\n",
            "Requirement already satisfied: scipy==1.7.3 in /usr/local/lib/python3.8/dist-packages (from -r protein_stability_prediction/requirements.txt (line 3)) (1.7.3)\n",
            "Requirement already satisfied: torch==1.13.1+cu116 in /usr/local/lib/python3.8/dist-packages (from -r protein_stability_prediction/requirements.txt (line 4)) (1.13.1+cu116)\n",
            "Requirement already satisfied: torchmetrics==0.11.1 in /usr/local/lib/python3.8/dist-packages (from -r protein_stability_prediction/requirements.txt (line 5)) (0.11.1)\n",
            "Requirement already satisfied: tqdm==4.64.1 in /usr/local/lib/python3.8/dist-packages (from -r protein_stability_prediction/requirements.txt (line 6)) (4.64.1)\n",
            "Requirement already satisfied: transformers==4.26.1 in /usr/local/lib/python3.8/dist-packages (from -r protein_stability_prediction/requirements.txt (line 7)) (4.26.1)\n",
            "Requirement already satisfied: python-dateutil>=2.7.3 in /usr/local/lib/python3.8/dist-packages (from pandas==1.3.5->-r protein_stability_prediction/requirements.txt (line 2)) (2.8.2)\n",
            "Requirement already satisfied: pytz>=2017.3 in /usr/local/lib/python3.8/dist-packages (from pandas==1.3.5->-r protein_stability_prediction/requirements.txt (line 2)) (2022.7.1)\n",
            "Requirement already satisfied: typing-extensions in /usr/local/lib/python3.8/dist-packages (from torch==1.13.1+cu116->-r protein_stability_prediction/requirements.txt (line 4)) (4.5.0)\n",
            "Requirement already satisfied: packaging in /usr/local/lib/python3.8/dist-packages (from torchmetrics==0.11.1->-r protein_stability_prediction/requirements.txt (line 5)) (23.0)\n",
            "Requirement already satisfied: pyyaml>=5.1 in /usr/local/lib/python3.8/dist-packages (from transformers==4.26.1->-r protein_stability_prediction/requirements.txt (line 7)) (6.0)\n",
            "Requirement already satisfied: requests in /usr/local/lib/python3.8/dist-packages (from transformers==4.26.1->-r protein_stability_prediction/requirements.txt (line 7)) (2.25.1)\n",
            "Requirement already satisfied: regex!=2019.12.17 in /usr/local/lib/python3.8/dist-packages (from transformers==4.26.1->-r protein_stability_prediction/requirements.txt (line 7)) (2022.6.2)\n",
            "Requirement already satisfied: filelock in /usr/local/lib/python3.8/dist-packages (from transformers==4.26.1->-r protein_stability_prediction/requirements.txt (line 7)) (3.9.0)\n",
            "Requirement already satisfied: tokenizers!=0.11.3,<0.14,>=0.11.1 in /usr/local/lib/python3.8/dist-packages (from transformers==4.26.1->-r protein_stability_prediction/requirements.txt (line 7)) (0.13.2)\n",
            "Requirement already satisfied: huggingface-hub<1.0,>=0.11.0 in /usr/local/lib/python3.8/dist-packages (from transformers==4.26.1->-r protein_stability_prediction/requirements.txt (line 7)) (0.12.1)\n",
            "Requirement already satisfied: six>=1.5 in /usr/local/lib/python3.8/dist-packages (from python-dateutil>=2.7.3->pandas==1.3.5->-r protein_stability_prediction/requirements.txt (line 2)) (1.15.0)\n",
            "Requirement already satisfied: idna<3,>=2.5 in /usr/local/lib/python3.8/dist-packages (from requests->transformers==4.26.1->-r protein_stability_prediction/requirements.txt (line 7)) (2.10)\n",
            "Requirement already satisfied: certifi>=2017.4.17 in /usr/local/lib/python3.8/dist-packages (from requests->transformers==4.26.1->-r protein_stability_prediction/requirements.txt (line 7)) (2022.12.7)\n",
            "Requirement already satisfied: urllib3<1.27,>=1.21.1 in /usr/local/lib/python3.8/dist-packages (from requests->transformers==4.26.1->-r protein_stability_prediction/requirements.txt (line 7)) (1.24.3)\n",
            "Requirement already satisfied: chardet<5,>=3.0.2 in /usr/local/lib/python3.8/dist-packages (from requests->transformers==4.26.1->-r protein_stability_prediction/requirements.txt (line 7)) (4.0.0)\n"
          ]
        }
      ]
    },
    {
      "cell_type": "code",
      "execution_count": null,
      "metadata": {
        "id": "9IBWtUFAqIhL"
      },
      "outputs": [],
      "source": [
        "import os\n",
        "import zipfile\n",
        "\n",
        "from tqdm import tqdm\n",
        "import copy\n",
        "import matplotlib.pyplot as plt\n",
        "import numpy as np\n",
        "import pandas as pd\n",
        "import itertools\n",
        "import random\n",
        "import seaborn as sns\n",
        "from scipy.special import softmax\n",
        "\n",
        "\n",
        "import torch\n",
        "from transformers import BertTokenizer, BertModel, BertConfig\n",
        "from torchmetrics import SpearmanCorrCoef\n",
        "\n",
        "from protein_stability_prediction.enzyme_dataset import (group_mutations, \n",
        "                                locate_mutations, split_group, \n",
        "                                 split_tm, truncate_sequence, group_mutations,\n",
        "                                 Dataset, DatasetPairs, get_number_AA)\n",
        "\n",
        "from protein_stability_prediction.enzyme_model import Bert_MLPHead, Trainer"
      ]
    },
    {
      "cell_type": "code",
      "execution_count": null,
      "metadata": {
        "id": "G8_V5OlADP6Y"
      },
      "outputs": [],
      "source": [
        "# Set of possible Amino-Acids\n",
        "AA_letters = ['A', 'B', 'C', 'D', 'E', 'F', 'G', 'H', 'I', 'K', 'L', 'M', 'N',\n",
        "       'O', 'P', 'Q', 'R', 'S', 'T', 'U', 'V', 'W', 'X', 'Y', 'Z']\n",
        "\n",
        "# Fixing seeds\n",
        "torch.manual_seed(0)\n",
        "random.seed(0)\n",
        "np.random.seed(0)\n"
      ]
    },
    {
      "cell_type": "markdown",
      "source": [
        "## Load Data"
      ],
      "metadata": {
        "id": "YD0CBj3ldsps"
      }
    },
    {
      "cell_type": "code",
      "execution_count": null,
      "metadata": {
        "id": "NQ3zw2PxqPK-",
        "colab": {
          "base_uri": "https://localhost:8080/"
        },
        "outputId": "6653f9ed-acea-4988-9c5b-9470bd30bc4b"
      },
      "outputs": [
        {
          "output_type": "stream",
          "name": "stdout",
          "text": [
            "Downloading...\n",
            "From: https://drive.google.com/uc?id=1b-cIT6gTV5IVguTYQoiX1MPQ0sbRF0ej\n",
            "To: /content/novozymes_data.zip\n",
            "\r  0% 0.00/7.41M [00:00<?, ?B/s]\r100% 7.41M/7.41M [00:00<00:00, 178MB/s]\n",
            "Size of Full set:  31390\n",
            "Size of Submission set:  2413\n"
          ]
        }
      ],
      "source": [
        "## Load data\n",
        "# Load zipped Data\n",
        "!gdown 1b-cIT6gTV5IVguTYQoiX1MPQ0sbRF0ej\n",
        "# Unzip\n",
        "with zipfile.ZipFile(\"/content/novozymes_data.zip\", 'r') as zip_ref:\n",
        "    zip_ref.extractall(\"/content/\")\n",
        "# Load sets\n",
        "df_full = pd.read_csv(\"/content/train.csv\")\n",
        "df_submission = pd.read_csv(\"/content/test.csv\")\n",
        "\n",
        "print(\"Size of Full set: \", len(df_full))\n",
        "print(\"Size of Submission set: \", len(df_submission))"
      ]
    },
    {
      "cell_type": "code",
      "execution_count": null,
      "metadata": {
        "id": "EviHq1qxqRr1",
        "colab": {
          "base_uri": "https://localhost:8080/"
        },
        "outputId": "af8f867e-f78f-4821-b232-a75c80bba1bf"
      },
      "outputs": [
        {
          "output_type": "stream",
          "name": "stdout",
          "text": [
            "Final size:  27875\n"
          ]
        }
      ],
      "source": [
        "df_updates = pd.read_csv(\"/content/train_updates_20220929.csv\").set_index(\"seq_id\")\n",
        "\n",
        "# Remove bad sequences\n",
        "nan_seq = df_updates['protein_sequence'].isna()\n",
        "df_full.drop(df_updates[nan_seq].index, inplace = True)\n",
        "# Swap pH and tm\n",
        "swap_ids = df_updates.loc[~nan_seq].index\n",
        "df_full.loc[swap_ids,[\"pH\",\"tm\"]] = df_updates.loc[~nan_seq,[\"pH\",\"tm\"]]\n",
        "\n",
        "# Remove sequences with no pH\n",
        "df_full.dropna(subset = ['pH'], inplace = True)\n",
        "# Remove all duplicates\n",
        "df_full.drop_duplicates(subset = [\"protein_sequence\", \"pH\"], \n",
        "                        inplace = True)\n",
        "print(\"Final size: \", len(df_full))"
      ]
    },
    {
      "cell_type": "markdown",
      "source": [
        "## Preprocessing"
      ],
      "metadata": {
        "id": "6CRUmTJNedLD"
      }
    },
    {
      "cell_type": "code",
      "execution_count": null,
      "metadata": {
        "id": "zQi_dhlLvBsw",
        "colab": {
          "base_uri": "https://localhost:8080/"
        },
        "outputId": "2980f0ff-fe40-4a22-c253-c299e5a47a06"
      },
      "outputs": [
        {
          "output_type": "stream",
          "name": "stdout",
          "text": [
            "Downloading...\n",
            "From: https://drive.google.com/uc?id=1PCF7M6wFoSIAjc5y0IV64Y5tgYKzpyyO\n",
            "To: /content/substitution_groups.csv\n",
            "\r  0% 0.00/206k [00:00<?, ?B/s]\r100% 206k/206k [00:00<00:00, 108MB/s]\n"
          ]
        }
      ],
      "source": [
        "# Compute length per sequence\n",
        "df_full[\"len\"] = df_full[\"protein_sequence\"].apply(len)\n",
        "\n",
        "# Count amino acids per sequence\n",
        "df_count = pd.DataFrame(columns = AA_letters)\n",
        "\n",
        "# Loop over amino-acids\n",
        "for aa in AA_letters:\n",
        "  df_count[aa] = df_full[\"protein_sequence\"].str.count(aa)\n",
        "\n",
        "# Find mutations\n",
        "#s_groups = group_mutations(df_full, max_rate = 0.34)\n",
        "#s_groups.to_csv(\"/content/substitution_groups.csv\")\n",
        "\n",
        "# Load precomputed mutation groups\n",
        "!gdown 1PCF7M6wFoSIAjc5y0IV64Y5tgYKzpyyO\n",
        "\n",
        "s_groups = pd.read_csv(\"/content/substitution_groups.csv\", header = 0,  \n",
        "                       names = [\"sub_group\"], index_col = 0, squeeze = True)\n",
        "\n",
        "# Set groups\n",
        "df_full[\"sub_group\"] = s_groups\n",
        "\n",
        "# Locate mutations \n",
        "s_locations = locate_mutations(df_full)\n",
        "# Set locations\n",
        "df_full.loc[s_locations.keys(), \"sub_locations\"] = s_locations"
      ]
    },
    {
      "cell_type": "code",
      "execution_count": null,
      "metadata": {
        "colab": {
          "base_uri": "https://localhost:8080/"
        },
        "id": "urG4FAkpR_oH",
        "outputId": "3885ba3e-7977-4dc9-cdab-92e14865627d"
      },
      "outputs": [
        {
          "output_type": "stream",
          "name": "stdout",
          "text": [
            "Percentage of proteins belonging to groups of mutation is only: 15.25%\n"
          ]
        }
      ],
      "source": [
        "# Number of samples belong to groups \n",
        "perc = len(df_full[~df_full[\"sub_group\"].isna()]) / len(df_full)\n",
        "print(f\"Percentage of proteins belonging to groups of mutation is only: {100*perc:.2f}%\")"
      ]
    },
    {
      "cell_type": "markdown",
      "source": [
        "## Split Dataset"
      ],
      "metadata": {
        "id": "cQMLQiwzenvy"
      }
    },
    {
      "cell_type": "code",
      "execution_count": null,
      "metadata": {
        "colab": {
          "base_uri": "https://localhost:8080/"
        },
        "id": "JjGiR1G6PzfN",
        "outputId": "720c2ddc-ab66-48b2-8604-251942836b62"
      },
      "outputs": [
        {
          "output_type": "stream",
          "name": "stdout",
          "text": [
            "train    0.750941\n",
            "test     0.142051\n",
            "val      0.107008\n",
            "Name: split, dtype: float64\n",
            "train    0.707874\n",
            "test     0.148807\n",
            "val      0.143318\n",
            "Name: split, dtype: float64\n"
          ]
        }
      ],
      "source": [
        "df_full[\"split\"] = np.nan\n",
        "# Split groups (The splits are deterministic by fixing the random seed)\n",
        "df_full = split_group(df_full, 0.15, 0.15)\n",
        "print(df_full.split.value_counts(normalize = \"true\"))\n",
        "# Split individual proteins \n",
        "df_full = split_tm(df_full, 0.15, 0.15, mask = df_full[\"split\"].isna())\n",
        "print(df_full.split.value_counts(normalize = \"true\"))\n"
      ]
    },
    {
      "cell_type": "code",
      "execution_count": null,
      "metadata": {
        "colab": {
          "base_uri": "https://localhost:8080/"
        },
        "id": "BJHxJhUHPnJo",
        "outputId": "635a3641-2a4c-4736-c4ce-ab0a554a9d8e"
      },
      "outputs": [
        {
          "output_type": "stream",
          "name": "stdout",
          "text": [
            "Train size:  19732\n",
            "Validation size:  3995\n",
            "Test size:  4148\n"
          ]
        }
      ],
      "source": [
        "df_train = df_full[df_full[\"split\"] == \"train\"].copy(deep =True)\n",
        "df_val = df_full[df_full[\"split\"] == \"val\"].copy(deep =True)\n",
        "df_test = df_full[df_full[\"split\"] == \"test\"].copy(deep =True)\n",
        "\n",
        "print(\"Train size: \", len(df_train))\n",
        "print(\"Validation size: \", len(df_val))\n",
        "print(\"Test size: \", len(df_test))"
      ]
    },
    {
      "cell_type": "code",
      "execution_count": null,
      "metadata": {
        "colab": {
          "base_uri": "https://localhost:8080/"
        },
        "id": "IjUP8e3_S2qg",
        "outputId": "64e51a43-c17a-459d-cf71-ec4e22acc71a"
      },
      "outputs": [
        {
          "output_type": "stream",
          "name": "stdout",
          "text": [
            "Train: 16.18%\n",
            "Val: 11.39%\n",
            "Test: 14.56%\n"
          ]
        }
      ],
      "source": [
        "# Checking distribution of mutations \n",
        "perc = 1 - df_train[\"sub_group\"].isna().sum() / len(df_train)\n",
        "print(f\"Train: {100*perc:.2f}%\")\n",
        "perc = 1 - df_val[\"sub_group\"].isna().sum() / len(df_val)\n",
        "print(f\"Val: {100*perc:.2f}%\")\n",
        "perc = 1 - df_test[\"sub_group\"].isna().sum() / len(df_test)\n",
        "print(f\"Test: {100*perc:.2f}%\")"
      ]
    },
    {
      "cell_type": "markdown",
      "metadata": {
        "id": "_q3IakGHMwD7"
      },
      "source": [
        "#### Test the truncate function"
      ]
    },
    {
      "cell_type": "code",
      "execution_count": null,
      "metadata": {
        "colab": {
          "base_uri": "https://localhost:8080/"
        },
        "id": "HbSdSNDxMueS",
        "outputId": "f0dd93c3-3f46-4da6-ad22-234e523ecf3e"
      },
      "outputs": [
        {
          "output_type": "stream",
          "name": "stdout",
          "text": [
            "Test Sequence: AAAAAABBBBBCCCDDDDD\n",
            "Test Sequence Mutation: AAUAAABBBBVCCCDDDDW\n",
            "Output 1 - Single:\n",
            "[['CCCD'], ['ABBB'], ['BBBB']]\n",
            "4 4\n",
            "Output 2 - Single + Pref:\n",
            "[['CCDD'], ['DDDW'], ['AAUA'], ['BBBV'], ['DDW'], ['AAUA'], ['CCCD'], ['W'], ['UAAA'], ['AAUA']]\n",
            "4 4\n",
            "Output 3 - Split:\n",
            "['XAAA', 'AAAB', 'BBBB', 'CCCD', 'DDDD', 'X']\n",
            "21 20\n",
            "Output 4 - Split + Overlap:\n",
            "['XAAA', 'AAAA', 'AAAB', 'ABBB', 'BBBB', 'BBCC', 'CCCD', 'CDDD', 'DDDD', 'DDX']\n",
            "Mask_ends: [array([0, 1, 2, 3]), array([2, 3, 4, 5]), array([4, 5, 6, 7]), array([6, 7, 8, 9]), array([ 8,  9, 10, 11]), array([10, 11, 12, 13]), array([12, 13, 14, 15]), array([14, 15, 16, 17]), array([16, 17, 18, 19]), array([18, 19, 20])]\n",
            "39 36\n",
            "Output 5 - Split + Sample:\n",
            "[(['BVCC', 'AAAB', 'AUAA'], [array([10, 11, 12, 13]), array([4, 5, 6, 7]), array([2, 3, 4, 5])]), (['DWX', 'BBBV', 'CCCD'], [array([18, 19, 20]), array([ 8,  9, 10, 11]), array([12, 13, 14, 15])]), (['BVCC', 'DWX', 'AAAB'], [array([10, 11, 12, 13]), array([18, 19, 20]), array([4, 5, 6, 7])]), (['DWX', 'AUAA', 'XAAU'], [array([18, 19, 20]), array([2, 3, 4, 5]), array([0, 1, 2, 3])]), (['AAAB', 'AUAA', 'CDDD'], [array([4, 5, 6, 7]), array([2, 3, 4, 5]), array([14, 15, 16, 17])])]\n",
            "12 12\n",
            "Output 5 - Split + Sample + pref:\n",
            "[(['BBBV', 'XAAU', 'CDDD'], [array([ 8,  9, 10, 11]), array([0, 1, 2, 3]), array([14, 15, 16, 17])]), (['BBBV', 'BVCC', 'AUAA'], [array([ 8,  9, 10, 11]), array([10, 11, 12, 13]), array([2, 3, 4, 5])]), (['XAAU', 'BBBV', 'ABBB'], [array([0, 1, 2, 3]), array([ 8,  9, 10, 11]), array([6, 7, 8, 9])])]\n",
            "12 12\n"
          ]
        }
      ],
      "source": [
        "test_seq = \"\".join([\"A\"]*6 + [\"B\"]*5 + [\"C\"]*3 + [\"D\"]*5)\n",
        "test_seq_mut = list(test_seq)\n",
        "diff_loc_test = [2, 10, len(test_seq_mut)-1]\n",
        "test_seq_mut[diff_loc_test[0]] = \"U\"\n",
        "test_seq_mut[diff_loc_test[1]] = \"V\"\n",
        "test_seq_mut[diff_loc_test[2]] = \"W\"\n",
        "test_seq_mut = \"\".join(test_seq_mut)\n",
        "\n",
        "print(f\"Test Sequence: {test_seq}\")\n",
        "print(f\"Test Sequence Mutation: {test_seq_mut}\")\n",
        "\n",
        "settings_test = {\"max_length\" : 4, \n",
        "                \"truncate\" : \"single\", \n",
        "                \"overlap\" : 0, \n",
        "                \"sample_splits\" : None}  \n",
        "\n",
        "# Settings 1: single\n",
        "test_trunc = []\n",
        "for i in range(3):\n",
        "  test_trunc.append(truncate_sequence(test_seq, \n",
        "                                      settings_test)[0])\n",
        "print(f\"Output 1 - Single:\\n{test_trunc}\")\n",
        "len_test = get_number_AA(test_seq, settings_test)\n",
        "print(len(test_trunc[0][0]), len_test)\n",
        "\n",
        "# Settings 2: single + position preference\n",
        "test_trunc = []\n",
        "for i in range(10):\n",
        "  test_trunc.append(truncate_sequence(test_seq_mut, settings_test, \n",
        "                                      diff_loc_test)[0])\n",
        "print(f\"Output 2 - Single + Pref:\\n{test_trunc}\")\n",
        "len_test = get_number_AA(test_seq, settings_test)\n",
        "print(len(test_trunc[0][0]), len_test)\n",
        "\n",
        "# Settings 3: split\n",
        "settings_test[\"truncate\"] = \"split\"\n",
        "test_trunc, aa_positions_ids = truncate_sequence(test_seq, settings_test)\n",
        "print(f\"Output 3 - Split:\\n{test_trunc}\")\n",
        "len_test = get_number_AA(test_seq, settings_test)\n",
        "print(len(\"\".join(test_trunc)), len_test)\n",
        "\n",
        "# Settings 4: split + overlap\n",
        "settings_test[\"overlap\"] = 0.4\n",
        "test_trunc, aa_positions_ids = truncate_sequence(test_seq, settings_test)\n",
        "print(f\"Output 4 - Split + Overlap:\\n{test_trunc}\")\n",
        "print(f\"Mask_ends: {aa_positions_ids}\")\n",
        "len_test = get_number_AA(test_seq, settings_test)\n",
        "print(len(\"\".join(test_trunc)), len_test)\n",
        "\n",
        "# Settings 5: split + sample\n",
        "settings_test[\"overlap\"] = 0.4\n",
        "settings_test[\"sample_splits\"] = 3\n",
        "test_trunc = []\n",
        "for i in range(5):\n",
        "  test_trunc.append(truncate_sequence(test_seq_mut, \n",
        "                                      settings_test))\n",
        "print(f\"Output 5 - Split + Sample:\\n{test_trunc}\")\n",
        "len_test = get_number_AA(test_seq, settings_test)\n",
        "print(len(\"\".join(test_trunc[0][0])), len_test)\n",
        "\n",
        "# Serring 6: split + sample + pref\n",
        "T = 2\n",
        "test_trunc = []\n",
        "for i in range(3):\n",
        "  test_trunc.append(truncate_sequence(test_seq_mut, settings_test, \n",
        "                                      diff_loc_test, T))\n",
        "print(f\"Output 5 - Split + Sample + pref:\\n{test_trunc}\")\n",
        "len_test = get_number_AA(test_seq, settings_test)\n",
        "print(len(\"\".join(test_trunc[0][0])), len_test)"
      ]
    },
    {
      "cell_type": "markdown",
      "metadata": {
        "id": "8mvESWtpOdRc"
      },
      "source": [
        "## Train"
      ]
    },
    {
      "cell_type": "code",
      "execution_count": null,
      "metadata": {
        "id": "WXlhIThAn2Np"
      },
      "outputs": [],
      "source": [
        "settings_train = {\"max_length\" : 128, \n",
        "                  \"truncate\" : \"split\", \n",
        "                  \"overlap\" : 0.05, \n",
        "                  \"sample_splits\" : 8}\n",
        "                  \n",
        "settings_val = {\"max_length\" : 128, \n",
        "                \"truncate\" : \"split\", \n",
        "                \"overlap\" : 0.05, \n",
        "                \"sample_splits\" : None}\n"
      ]
    },
    {
      "cell_type": "code",
      "source": [
        "tokenizer = BertTokenizer.from_pretrained(\"Rostlab/prot_bert\", \n",
        "                                          do_lower_case=False, \n",
        "                                          model_input_names = ['input_ids',\n",
        "                                                               'attention_mask'])"
      ],
      "metadata": {
        "id": "e-Zg7SJ6f2tJ"
      },
      "execution_count": null,
      "outputs": []
    },
    {
      "cell_type": "code",
      "execution_count": null,
      "metadata": {
        "colab": {
          "base_uri": "https://localhost:8080/"
        },
        "id": "tR96KdeRngpy",
        "outputId": "d0b1c85c-7262-44b5-b449-f34649e42ae2"
      },
      "outputs": [
        {
          "output_type": "stream",
          "name": "stderr",
          "text": [
            "Some weights of the model checkpoint at Rostlab/prot_bert were not used when initializing BertModel: ['cls.predictions.bias', 'bert.pooler.dense.weight', 'bert.pooler.dense.bias', 'cls.seq_relationship.weight', 'cls.seq_relationship.bias', 'cls.predictions.transform.LayerNorm.bias', 'cls.predictions.decoder.weight', 'cls.predictions.decoder.bias', 'cls.predictions.transform.dense.bias', 'cls.predictions.transform.LayerNorm.weight', 'cls.predictions.transform.dense.weight']\n",
            "- This IS expected if you are initializing BertModel from the checkpoint of a model trained on another task or with another architecture (e.g. initializing a BertForSequenceClassification model from a BertForPreTraining model).\n",
            "- This IS NOT expected if you are initializing BertModel from the checkpoint of a model that you expect to be exactly identical (initializing a BertForSequenceClassification model from a BertForSequenceClassification model).\n",
            "/usr/local/lib/python3.8/dist-packages/torchmetrics/utilities/prints.py:36: UserWarning: Metric `SpearmanCorrcoef` will save all targets and predictions in the buffer. For large datasets, this may lead to large memory footprint.\n",
            "  warnings.warn(*args, **kwargs)\n"
          ]
        }
      ],
      "source": [
        "dataset_train = Dataset(df_train, tokenizer = tokenizer, \n",
        "                        settings = settings_train)\n",
        "dataset_val = Dataset(df_val, tokenizer = tokenizer, \n",
        "                      settings = settings_val)\n",
        "dataset_test = Dataset(df_test, tokenizer = tokenizer,\n",
        "                       settings = settings_val)\n",
        "\n",
        "datasetpairs_train = DatasetPairs(df_train[~df_train[\"sub_group\"].isna()], \n",
        "                                tokenizer = tokenizer, \n",
        "                                settings = {\"max_length\" : 128, \n",
        "                                            \"truncate\" : \"split\", \n",
        "                                            \"overlap\" : 0.05, \n",
        "                                            \"sample_splits\" : 8})\n",
        "\n",
        "bert_mlphead = Bert_MLPHead(\"Rostlab/prot_bert\", add_bert_pooler = False,\n",
        "                            linear_layers = [0.5], include_ph = True, \n",
        "                            fusion = \"weighted\")\n",
        "\n",
        "# Two choices of parameters\n",
        "# MSE loss\n",
        "criterion_reg = torch.nn.MSELoss()\n",
        "# MARGINRANK loss\n",
        "criterion_rank = torch.nn.MarginRankingLoss(margin = 5)\n",
        "# Spearman's correlation\n",
        "spearman = SpearmanCorrCoef()\n",
        "# Optimizer\n",
        "lr = 1e-5\n",
        "optimizer = torch.optim.Adam(bert_mlphead.parameters(), lr = lr)"
      ]
    },
    {
      "cell_type": "code",
      "execution_count": null,
      "metadata": {
        "colab": {
          "base_uri": "https://localhost:8080/"
        },
        "id": "CFUrKnrf3XTC",
        "outputId": "f62cc0e8-51c0-4406-8b41-924423387b38"
      },
      "outputs": [
        {
          "output_type": "stream",
          "name": "stdout",
          "text": [
            "device: cuda:0\n"
          ]
        }
      ],
      "source": [
        "# Instanciate the trainer\n",
        "trainer = Trainer(model = bert_mlphead,\n",
        "                  device = \"cuda:0\")\n",
        "\n",
        "trainer.set_optimization(criterion_reg = criterion_reg, criterion_rank= criterion_rank, \n",
        "                         optimizer = optimizer, \n",
        "                         metric = spearman)\n",
        "\n",
        "# Freeze layers\n",
        "\n",
        "trainer.model.freeze_bert()\n",
        "trainer.model.unfreeze_encoderlayers(layers = [-1])"
      ]
    },
    {
      "cell_type": "code",
      "execution_count": null,
      "metadata": {
        "colab": {
          "base_uri": "https://localhost:8080/"
        },
        "id": "8H6RmhTLjOpg",
        "outputId": "13ff9e76-3c20-4fb6-f37c-a2bbffd0d988",
        "collapsed": true
      },
      "outputs": [
        {
          "output_type": "stream",
          "name": "stderr",
          "text": [
            " 25%|██▌       | 74/292 [03:16<09:57,  2.74s/it]"
          ]
        },
        {
          "output_type": "stream",
          "name": "stdout",
          "text": [
            "\n",
            "<TRAIN> Epoch: 0     - Batch: 73   | Loss_reg: 2695.258  SCC: -3.478   \n"
          ]
        },
        {
          "output_type": "stream",
          "name": "stderr",
          "text": [
            " 50%|█████     | 147/292 [06:34<06:38,  2.75s/it]"
          ]
        },
        {
          "output_type": "stream",
          "name": "stdout",
          "text": [
            "\n",
            "<TRAIN> Epoch: 0     - Batch: 146  | Loss_reg: 2443.516  SCC: -0.652   \n"
          ]
        },
        {
          "output_type": "stream",
          "name": "stderr",
          "text": [
            " 75%|███████▌  | 220/292 [09:51<03:18,  2.75s/it]"
          ]
        },
        {
          "output_type": "stream",
          "name": "stdout",
          "text": [
            "\n",
            "<TRAIN> Epoch: 0     - Batch: 219  | Loss_reg: 2133.503  SCC: 0.455    \n"
          ]
        },
        {
          "output_type": "stream",
          "name": "stderr",
          "text": [
            "100%|██████████| 292/292 [13:04<00:00,  2.69s/it]\n",
            "100%|██████████| 136/136 [08:05<00:00,  3.57s/it]\n",
            "/usr/local/lib/python3.8/dist-packages/scipy/stats/stats.py:4484: SpearmanRConstantInputWarning: An input array is constant; the correlation coefficient is not defined.\n",
            "  warnings.warn(SpearmanRConstantInputWarning())\n",
            "100%|██████████| 46/46 [02:41<00:00,  3.52s/it]\n"
          ]
        },
        {
          "output_type": "stream",
          "name": "stdout",
          "text": [
            "\n",
            "<TRAIN> Epoch: 0     |Loss_reg: 1774.913   Loss_rank: 4.991      SCC: 0.713   Mut-Avg Scc: -3.393  \n",
            "<VALID> Epoch: 0     |Loss_reg: 1681.588   Loss_rank: 5.006      SCC: -1.560  Mut-Avg Scc: -5.558  \n",
            "\n"
          ]
        },
        {
          "output_type": "stream",
          "name": "stderr",
          "text": [
            " 25%|██▌       | 74/292 [03:20<10:02,  2.77s/it]"
          ]
        },
        {
          "output_type": "stream",
          "name": "stdout",
          "text": [
            "\n",
            "<TRAIN> Epoch: 1     - Batch: 73   | Loss_reg: 1707.186  SCC: -0.541   \n"
          ]
        },
        {
          "output_type": "stream",
          "name": "stderr",
          "text": [
            " 50%|█████     | 147/292 [06:37<06:32,  2.71s/it]"
          ]
        },
        {
          "output_type": "stream",
          "name": "stdout",
          "text": [
            "\n",
            "<TRAIN> Epoch: 1     - Batch: 146  | Loss_reg: 1373.474  SCC: -1.685   \n"
          ]
        },
        {
          "output_type": "stream",
          "name": "stderr",
          "text": [
            " 75%|███████▌  | 220/292 [09:54<03:16,  2.73s/it]"
          ]
        },
        {
          "output_type": "stream",
          "name": "stdout",
          "text": [
            "\n",
            "<TRAIN> Epoch: 1     - Batch: 219  | Loss_reg: 1115.129  SCC: -0.434   \n"
          ]
        },
        {
          "output_type": "stream",
          "name": "stderr",
          "text": [
            "100%|██████████| 292/292 [13:07<00:00,  2.70s/it]\n",
            "100%|██████████| 136/136 [08:03<00:00,  3.55s/it]\n",
            "100%|██████████| 46/46 [02:41<00:00,  3.52s/it]\n"
          ]
        },
        {
          "output_type": "stream",
          "name": "stdout",
          "text": [
            "\n",
            "<TRAIN> Epoch: 1     |Loss_reg: 836.138    Loss_rank: 4.950      SCC: 0.240   Mut-Avg Scc: 3.763   \n",
            "<VALID> Epoch: 1     |Loss_reg: 780.985    Loss_rank: 5.014      SCC: -5.370  Mut-Avg Scc: -31.684 \n",
            "\n"
          ]
        },
        {
          "output_type": "stream",
          "name": "stderr",
          "text": [
            " 25%|██▌       | 74/292 [03:19<09:54,  2.73s/it]"
          ]
        },
        {
          "output_type": "stream",
          "name": "stdout",
          "text": [
            "\n",
            "<TRAIN> Epoch: 2     - Batch: 73   | Loss_reg: 818.432   SCC: 0.472    \n"
          ]
        },
        {
          "output_type": "stream",
          "name": "stderr",
          "text": [
            " 50%|█████     | 147/292 [06:36<06:35,  2.73s/it]"
          ]
        },
        {
          "output_type": "stream",
          "name": "stdout",
          "text": [
            "\n",
            "<TRAIN> Epoch: 2     - Batch: 146  | Loss_reg: 571.472   SCC: 0.469    \n"
          ]
        },
        {
          "output_type": "stream",
          "name": "stderr",
          "text": [
            " 75%|███████▌  | 220/292 [09:52<03:16,  2.73s/it]"
          ]
        },
        {
          "output_type": "stream",
          "name": "stdout",
          "text": [
            "\n",
            "<TRAIN> Epoch: 2     - Batch: 219  | Loss_reg: 447.661   SCC: 4.257    \n"
          ]
        },
        {
          "output_type": "stream",
          "name": "stderr",
          "text": [
            "100%|██████████| 292/292 [13:05<00:00,  2.69s/it]\n",
            "100%|██████████| 136/136 [08:07<00:00,  3.58s/it]\n",
            "100%|██████████| 46/46 [02:41<00:00,  3.51s/it]\n"
          ]
        },
        {
          "output_type": "stream",
          "name": "stdout",
          "text": [
            "\n",
            "<TRAIN> Epoch: 2     |Loss_reg: 317.187    Loss_rank: 4.849      SCC: 4.089   Mut-Avg Scc: 1.699   \n",
            "<VALID> Epoch: 2     |Loss_reg: 288.299    Loss_rank: 5.021      SCC: -6.842  Mut-Avg Scc: -47.076 \n",
            "\n"
          ]
        }
      ],
      "source": [
        "trainer.fit(dataset_train = dataset_train, \n",
        "            datasetpairs_train = datasetpairs_train, \n",
        "            dataset_val = dataset_val, \n",
        "            settings_train = settings_train,\n",
        "            settings_val = settings_val,\n",
        "            train_rank = False, n_rank_step = 0,\n",
        "            n_epochs = 3, batch_size = 256 * settings_train[\"max_length\"], \n",
        "            n_logs = 5 ,num_workers = 4, pin_memory = True,\n",
        "            debug = False, mixed_precision = True)"
      ]
    },
    {
      "cell_type": "markdown",
      "source": [
        "## Show curves"
      ],
      "metadata": {
        "id": "Fx6wsqvmfqHy"
      }
    },
    {
      "cell_type": "code",
      "execution_count": null,
      "metadata": {
        "id": "LyUjZsy-foO5",
        "colab": {
          "base_uri": "https://localhost:8080/",
          "height": 605
        },
        "outputId": "3471a3ba-e8d5-4133-a39c-565868b60431"
      },
      "outputs": [
        {
          "output_type": "execute_result",
          "data": {
            "text/plain": [
              "<matplotlib.legend.Legend at 0x7f2514ecd5e0>"
            ]
          },
          "metadata": {},
          "execution_count": 18
        },
        {
          "output_type": "display_data",
          "data": {
            "text/plain": [
              "<Figure size 1440x720 with 4 Axes>"
            ],
            "image/png": "[encoded data removed]"
          },
          "metadata": {
            "needs_background": "light"
          }
        }
      ],
      "source": [
        "fig, axes = plt.subplots(2,2, figsize=(20, 10))\n",
        "\n",
        "axes[0,0].plot(trainer.out_train[\"Loss_reg\"], label = \"train\")\n",
        "axes[0,0].plot(trainer.out_val[\"Loss_reg\"], label = \"val\")\n",
        "axes[0,0].set_title(\"MSE loss\");\n",
        "axes[0,0].set_xlabel(\"epoch\");\n",
        "axes[0,0].legend()\n",
        "\n",
        "axes[0,1].plot(trainer.out_train[\"Loss_rank\"], label = \"train\")\n",
        "axes[0,1].plot(trainer.out_val[\"Loss_rank\"], label = \"val\")\n",
        "axes[0,1].set_title(\"Margin Ranking loss\");\n",
        "axes[0,1].set_xlabel(\"epoch\");\n",
        "axes[0,1].legend()\n",
        "\n",
        "axes[1,0].plot(trainer.out_train[\"SCC\"], label = \"train\")\n",
        "axes[1,0].plot(trainer.out_val[\"SCC\"], label = \"val\")\n",
        "axes[1,0].set_title(\"Spearsman's Coefficient\");\n",
        "axes[1,0].set_xlabel(\"epoch\");\n",
        "axes[1,0].legend()\n",
        "\n",
        "axes[1,1].plot(trainer.out_train[\"SCC_mut_avg\"], label = \"train\")\n",
        "axes[1,1].plot(trainer.out_val[\"SCC_mut_avg\"], label = \"val\")\n",
        "axes[1,1].set_title(\"Spearsman's Coefficient Averaged on Groups\");\n",
        "axes[1,1].set_xlabel(\"epoch\");\n",
        "axes[1,1].legend()"
      ]
    }
  ],
  "metadata": {
    "accelerator": "GPU",
    "colab": {
      "machine_shape": "hm",
      "provenance": []
    },
    "gpuClass": "standard",
    "kernelspec": {
      "display_name": "Python 3",
      "name": "python3"
    },
    "language_info": {
      "name": "python"
    }
  },
  "nbformat": 4,
  "nbformat_minor": 0
}